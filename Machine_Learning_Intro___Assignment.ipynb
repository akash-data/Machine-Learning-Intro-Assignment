{
  "nbformat": 4,
  "nbformat_minor": 0,
  "metadata": {
    "colab": {
      "provenance": []
    },
    "kernelspec": {
      "name": "python3",
      "display_name": "Python 3"
    },
    "language_info": {
      "name": "python"
    }
  },
  "cells": [
    {
      "cell_type": "markdown",
      "source": [
        "#        Machine Learning Intro | Assignment\n",
        "\n",
        "**Assignment Code: DA-AG-008**\n"
      ],
      "metadata": {
        "id": "jCFWuIwQpjdD"
      }
    },
    {
      "cell_type": "markdown",
      "source": [
        " # Question 1: Explain the differences between AI, ML, Deep Learning (DL), and Data Science (DS).\n",
        "\n",
        "\n",
        "##Answer:\n",
        "**i. Artificial Intelligence (AI)**\n",
        "\n",
        "AI refers broadly to computer systems designed to perform tasks that typically require human intelligence, such as reasoning, learning, perception, and decision-making.\n",
        "\n",
        "__Key Point:__ AI is the overarching field encompassing all efforts to make machines \"intelligent.\"\n",
        "\n",
        "**ii. Machine Learning (ML)**\n",
        " A specialized subfield of AI focusing on algorithms that improve automatically through experience with data, without explicit programming of every step.\n",
        "\n",
        "__Essentials:__\n",
        "   * ML systems learn patterns from data and generalize to new, unseen data.\n",
        "\n",
        "\n",
        "   * Common paradigms include supervised learning, unsupervised learning, and reinforcement learning.\n",
        "\n",
        "** iii. Deep Learning (DL)**\n",
        "\n",
        "Deep Learning is a subset of ML that uses multi-layered neural networks (often with dozens or more layers) to learn and extract features directly from raw data.\n",
        "\n",
        "__Highlights:__\n",
        " * DL networks (including CNNs, RNNs, Transformers, etc.) can handle unstructured data like images, audio, and text.\n",
        " * Unlike traditional ML methods where humans define features, DL systems discover features autonomously.\n",
        "\n",
        "__Nested Relationship__\n",
        "\n",
        "Think of AI as the largest circle. Inside it is ML, and inside ML lies DL:\n",
        "\n",
        "AI ⊃ ML ⊃ DL\n",
        "\n",
        "**iv. Data Science (DS)**\n",
        "\n",
        "Definition: Data Science is a multidisciplinary field that uses scientific methods, algorithms, statistics, computing, and domain knowledge to extract insights and knowledge from structured or unstructured data.\n",
        "\n",
        "__Scope & Activities:__\n",
        " * DS involves a full workflow: collecting, cleaning, analyzing, visualizing, modeling, and interpreting data.\n",
        "\n",
        "\n",
        "* It draws from mathematics, statistics, computer science, and domain-specific expertise.\n"
      ],
      "metadata": {
        "id": "MFAY1HKKkD3-"
      }
    },
    {
      "cell_type": "markdown",
      "source": [
        "# Question 2: What are the types of machine learning? Describe each with one real-world example.\n",
        "\n",
        "##Answer:\n",
        "**i. Supervised Learning**\n",
        "\n",
        "Definition: In supervised learning, models are trained using labeled data—that means each input comes with a known, correct output. The model learns to map inputs to outputs and can make accurate predictions on new, unseen data.\n",
        "\n",
        "__Common Tasks:__\n",
        "\n",
        "\n",
        " * Classification (predicting categories, e.g., spam detection)\n",
        "\n",
        "\n",
        " * Regression (predicting continuous values, e.g., house prices).\n",
        "\n",
        "\n",
        "** __Real-World Example:__**\n",
        "\n",
        " * Email spam detection: It's trained on a dataset of emails labeled “spam” or “not spam.” The model learns to classify incoming emails accordingly.\n",
        "\n",
        "\n",
        "\n",
        "**ii. Unsupervised Learning**\n",
        "\n",
        "Definition: Unsupervised learning works with unlabeled data. The algorithm explores the data to discover hidden patterns, structures, relationships, or groupings without predefined guidance.\n",
        "\n",
        "__Major Approaches:__\n",
        "\n",
        "\n",
        " * Clustering (grouping similar data points, e.g., customer segmentation)\n",
        "\n",
        "\n",
        " * Association (finding relationships, e.g., market basket analysis)\n",
        "\n",
        "\n",
        " * Dimensionality Reduction (simplifying complex data, e.g., via PCA or autoencoders).\n",
        "\n",
        "\n",
        "** __Real-World Example:__**\n",
        "\n",
        "Customer segmentation: A retail platform groups shoppers based on purchase behavior—like \"frequent buyers\" or \"new customers\"—without preassigned labels.\n",
        "\n",
        "**iii. Reinforcement Learning (RL)**\n",
        "\n",
        "Definition: Reinforcement learning trains an agent to act in an environment to maximize cumulative rewards through trial and error. The agent makes decisions (actions), observes outcomes, and adapts its strategy over time.\n",
        "  * Unlike supervised learning, RL doesn’t rely on correct input-output pairs. Instead, it learns from feedback—rewards or penalties—as it explores and exploits the environment.\n",
        "\n",
        "\n",
        "** __Real-World Example:__**\n",
        "Self-driving cars: The car (agent) receives rewards for staying in lanes or avoiding collisions, and penalties for violations. It learns optimal driving behavior over time.\n"
      ],
      "metadata": {
        "id": "ZHTsbNHMkB0m"
      }
    },
    {
      "cell_type": "markdown",
      "source": [
        "#Question 3: Define overfitting, underfitting, and the bias-variance tradeoff in machine learning.\n",
        "\n",
        "##Answer:\n",
        "**Overfitting**\n",
        "\n",
        "Definition: Overfitting happens when a model learns the training dataset—including its noise and outliers—too precisely, capturing details that don’t generalize to new data. This leads to high accuracy on the training set but poor performance on unseen data.\n",
        " * Think of it like a student who memorizes practice test answers—great on that specific test, but flounders on anything slightly different.\n",
        "\n",
        "\n",
        "\n",
        "**Underfitting**\n",
        "\n",
        "Definition: Underfitting occurs when a model is too simplistic to capture the underlying patterns in the data. It performs poorly on both the training and testing datasets.\n",
        " * It’s like a student who doesn’t study enough and fails both the practice and the real exam.\n",
        "\n",
        "\n",
        "\n",
        "**Bias–Variance Tradeoff**\n",
        "This tradeoff captures the tension between a model’s bias (error from oversimplification) and variance (error from sensitivity to training data fluctuations).\n",
        "* Bias: High bias means the model is too simple, missing the underlying trends—leading to underfitting.\n",
        "\n",
        "\n",
        "* Variance: High variance means the model is too complex, fitting noise and fluctuations—leading to overfitting.\n",
        "\n",
        "\n",
        "__As you increase model complexity:__\n",
        "* Bias ↓ (better fit to training data)\n",
        "\n",
        "\n",
        "* Variance ↑ (worse generalization)\n"
      ],
      "metadata": {
        "id": "4aJNDf8dkBpG"
      }
    },
    {
      "cell_type": "markdown",
      "source": [
        "\n",
        "#Question 4: What are outliers in a dataset, and list three common techniques for handling them.\n",
        "\n",
        "##Answer:\n",
        "An outlier is a data point that significantly deviates from the other observations in a dataset. These anomalies can arise due to measurement errors, data entry mistakes, rare or novel phenomena, or simply natural variability in the data. While they may signal interesting insights, outliers can also skew analyses and distort modeling outcomes if not handled appropriately.\n",
        "\n",
        "###Three Common Techniques for Handling Outliers\n",
        "**i. Removal (Trimming)**\n",
        "\n",
        "* Simply discard data points deemed outliers—typically those beyond a statistical threshold.\n",
        "\n",
        "\n",
        "* When to use: Ideal when outliers are errors or irrelevant noise.\n",
        "\n",
        "\n",
        "Example: For a normally distributed feature, remove data points with a Z-score greater than 3 (more than three standard deviations away from the mean) or those outside Q1 − 1.5 × IQR or Q3 + 1.5 × IQR\n",
        "\n",
        "\n",
        "**ii. Transformation (Including Capping/Winsorization)**\n",
        "\n",
        " * What it is: Soften the influence of outliers without removing them. This may involve transforming the data or capping extreme values.\n",
        "\n",
        "\n",
        " * Techniques:\n",
        "\n",
        "    * Logarithmic or square root transformations compress the range of high values in skewed distributions.\n",
        "\n",
        "\n",
        "**iii. Imputation or Robust Methods**\n",
        "\n",
        "* What it is: Rather than eliminate or transform outliers, replace them with more representative values—or use algorithms that are inherently less sensitive to extreme points.\n",
        "\n",
        "__Approaches:__\n",
        "* Imputation: Replace outlier values with the mean, median, or modeled estimates (e.g., via k-nearest neighbors).\n",
        "\n",
        "\n",
        "* Robust Statistical or Modeling Techniques: Use median instead of mean for summary statistics or employ robust regression (e.g., Huber regression, LAD regression) and tree-based models like Random Forest that are less influenced by outliers.\n"
      ],
      "metadata": {
        "id": "i1KJyXjvkBTP"
      }
    },
    {
      "cell_type": "markdown",
      "source": [
        "\n",
        "#Question 5: Explain the process of handling missing values and mention one imputation technique for numerical and one for categorical data.\n",
        "##Answer:\n",
        "**Handling Missing Values:**\n",
        "\n",
        " Handling missing values is an essential step in data preprocessing to ensure data quality and accurate analysis. The process generally involves:\n",
        "\n",
        "   i.  __Identifying Missing Data –__ Detect missing values using tools like           ` isnull()` or `info()` in Python.\n",
        "\n",
        "\n",
        "ii.  __Understanding the Pattern –__ Determine if data are Missing Completely at Random (MCAR), Missing at Random (MAR), or Missing Not at Random (MNAR).\n",
        "\n",
        "\n",
        "iii. __Choosing a Strategy –__ Either remove rows/columns with missing values (if missingness is low) or impute them to retain information.\n",
        "\n",
        "\n",
        "iv. __Imputing Missing Data –__ Replace missing values with suitable values depending on the type of data.\n",
        "\n",
        "\n",
        "V.  __Validating Results –__ Ensure that imputation has not introduced bias.\n",
        "\n",
        "\n",
        "**Imputation Techniques:**\n",
        "\n",
        "* __For Numerical Data: Mean/Median Imputation –__ Replace missing values with the mean or median of the column. Example: If the “Age” column has missing values, fill them with the mean age of all other entries.\n",
        "\n",
        "\n",
        "* __For Categorical Data: Mode Imputation –__ Replace missing values with the most frequently occurring category. Example: If the “Gender” column has missing values, fill them with the most common gender value in the dataset."
      ],
      "metadata": {
        "id": "6B0r09YbkA54"
      }
    },
    {
      "cell_type": "code",
      "execution_count": 1,
      "metadata": {
        "colab": {
          "base_uri": "https://localhost:8080/"
        },
        "id": "0Lsi8Nnhjwiv",
        "outputId": "6edb4bbb-8d57-473a-ac75-2eab4d9b2a69"
      },
      "outputs": [
        {
          "output_type": "stream",
          "name": "stdout",
          "text": [
            "Class distribution: Counter({np.int64(0): 895, np.int64(1): 105})\n"
          ]
        }
      ],
      "source": [
        "\"\"\"\n",
        "\n",
        "Question 6: Write a Python program that:\n",
        "●  Creates a synthetic imbalanced dataset with make_classification() from sklearn.datasets.\n",
        " ●  Prints the class distribution.\n",
        " (Include your Python code and output in the code box below.)\n",
        "\n",
        "Answer:\n",
        "\n",
        "\"\"\"\n",
        "\n",
        "\n",
        "# Import required libraries\n",
        "from sklearn.datasets import make_classification\n",
        "from collections import Counter\n",
        "\n",
        "# Create a synthetic imbalanced dataset\n",
        "X, y = make_classification(n_samples=1000, n_features=2, n_informative=2,\n",
        "                           n_redundant=0, n_clusters_per_class=1,\n",
        "                           weights=[0.9, 0.1], random_state=42)\n",
        "\n",
        "# Print class distribution\n",
        "print(\"Class distribution:\", Counter(y))\n"
      ]
    },
    {
      "cell_type": "code",
      "source": [
        "\"\"\"\n",
        "Question 7: Implement one-hot encoding using pandas for the following list of colors:\n",
        "['Red', 'Green', 'Blue', 'Green', 'Red']. Print the resulting dataframe.\n",
        "\n",
        "Answer:\n",
        "\"\"\"\n",
        "import pandas as pd\n",
        "\n",
        "# Original list of colors\n",
        "colors = ['Red', 'Green', 'Blue', 'Green', 'Red']\n",
        "\n",
        "# Create a DataFrame\n",
        "df = pd.DataFrame({'Color': colors})\n",
        "\n",
        "# Perform one-hot encoding\n",
        "one_hot_df = pd.get_dummies(df, columns=['Color'])\n",
        "\n",
        "# Print the resulting DataFrame\n",
        "print(one_hot_df)\n"
      ],
      "metadata": {
        "colab": {
          "base_uri": "https://localhost:8080/"
        },
        "id": "VJhSyC8Jpg9P",
        "outputId": "04365675-1d34-4248-9f61-1f6e78df2213"
      },
      "execution_count": 2,
      "outputs": [
        {
          "output_type": "stream",
          "name": "stdout",
          "text": [
            "   Color_Blue  Color_Green  Color_Red\n",
            "0       False        False       True\n",
            "1       False         True      False\n",
            "2        True        False      False\n",
            "3       False         True      False\n",
            "4       False        False       True\n"
          ]
        }
      ]
    },
    {
      "cell_type": "code",
      "source": [
        "\"\"\"\n",
        "Question 8: Write a Python script to:\n",
        "● Generate 1000 samples from a normal distribution.\n",
        "● Introduce 50 random missing values.\n",
        "● Fill missing values with the column mean.\n",
        "● Plot a histogram before and after imputation.\n",
        "\n",
        "Answer:\n",
        "\n",
        "\"\"\"\n",
        "\n",
        "import numpy as np\n",
        "import pandas as pd\n",
        "import matplotlib.pyplot as plt\n",
        "\n",
        "# Step 1: Generate 1000 samples from a normal distribution\n",
        "data = np.random.normal(loc=50, scale=10, size=1000)\n",
        "\n",
        "# Convert to DataFrame\n",
        "df = pd.DataFrame({'Values': data})\n",
        "\n",
        "# Step 2: Introduce 50 random missing values\n",
        "missing_indices = np.random.choice(df.index, 50, replace=False)\n",
        "df.loc[missing_indices, 'Values'] = np.nan\n",
        "\n",
        "# Step 3: Fill missing values with column mean\n",
        "df_filled = df.copy()\n",
        "df_filled['Values'].fillna(df['Values'].mean(), inplace=True)\n",
        "\n",
        "# Step 4: Plot histograms before and after imputation\n",
        "plt.figure(figsize=(10,5))\n",
        "\n",
        "# Before Imputation\n",
        "plt.subplot(1,2,1)\n",
        "plt.hist(df['Values'].dropna(), bins=30, edgecolor='black')\n",
        "plt.title(\"Before Imputation\")\n",
        "\n",
        "# After Imputation\n",
        "plt.subplot(1,2,2)\n",
        "plt.hist(df_filled['Values'], bins=30, edgecolor='black')\n",
        "plt.title(\"After Imputation\")\n",
        "\n",
        "plt.tight_layout()\n",
        "plt.show()\n"
      ],
      "metadata": {
        "colab": {
          "base_uri": "https://localhost:8080/",
          "height": 649
        },
        "id": "FCGqWLfXpgw-",
        "outputId": "8536faf1-8f3a-4fbd-95b9-efd2df24b9b3"
      },
      "execution_count": 3,
      "outputs": [
        {
          "output_type": "stream",
          "name": "stderr",
          "text": [
            "/tmp/ipython-input-3730668732.py:28: FutureWarning: A value is trying to be set on a copy of a DataFrame or Series through chained assignment using an inplace method.\n",
            "The behavior will change in pandas 3.0. This inplace method will never work because the intermediate object on which we are setting values always behaves as a copy.\n",
            "\n",
            "For example, when doing 'df[col].method(value, inplace=True)', try using 'df.method({col: value}, inplace=True)' or df[col] = df[col].method(value) instead, to perform the operation inplace on the original object.\n",
            "\n",
            "\n",
            "  df_filled['Values'].fillna(df['Values'].mean(), inplace=True)\n"
          ]
        },
        {
          "output_type": "display_data",
          "data": {
            "text/plain": [
              "<Figure size 1000x500 with 2 Axes>"
            ],
            "image/png": "[encoded data removed]"
          },
          "metadata": {}
        }
      ]
    },
    {
      "cell_type": "code",
      "source": [
        "\"\"\"\n",
        "Question 9: Implement Min-Max scaling on the following list of numbers\n",
        " [2, 5, 10, 15, 20] using sklearn.preprocessing.MinMaxScaler. Print the scaled array.\n",
        "\n",
        "\n",
        "Answer:\n",
        "\"\"\"\n",
        "\n",
        "from sklearn.preprocessing import MinMaxScaler\n",
        "import numpy as np\n",
        "\n",
        "# Original list\n",
        "numbers = np.array([2, 5, 10, 15, 20]).reshape(-1, 1)\n",
        "\n",
        "# Initialize MinMaxScaler\n",
        "scaler = MinMaxScaler()\n",
        "\n",
        "# Fit and transform the data\n",
        "scaled_numbers = scaler.fit_transform(numbers)\n",
        "\n",
        "# Print the scaled array\n",
        "print(scaled_numbers)\n"
      ],
      "metadata": {
        "colab": {
          "base_uri": "https://localhost:8080/"
        },
        "id": "ZRqE49jCpgjo",
        "outputId": "a9183418-60c7-4ff4-8d8d-78e842b080ac"
      },
      "execution_count": 4,
      "outputs": [
        {
          "output_type": "stream",
          "name": "stdout",
          "text": [
            "[[0.        ]\n",
            " [0.16666667]\n",
            " [0.44444444]\n",
            " [0.72222222]\n",
            " [1.        ]]\n"
          ]
        }
      ]
    },
    {
      "cell_type": "code",
      "source": [
        "\"\"\"\n",
        "Question 10: You are working as a data scientist for a retail company. You receive a customer transaction dataset that contains:\n",
        "● Missing ages,\n",
        "● Outliers in transaction amount,\n",
        "● A highly imbalanced target (fraud vs. non-fraud),\n",
        "● Categorical variables like payment method.\n",
        "Explain the step-by-step data preparation plan you’d follow before training a machine learning model.\n",
        " Include how you’d address missing data, outliers, imbalance, and encoding.\n",
        "\n",
        "\"\"\"\n",
        "import pandas as pd\n",
        "import numpy as np\n",
        "from sklearn.preprocessing import MinMaxScaler\n",
        "from sklearn.model_selection import train_test_split\n",
        "from imblearn.over_sampling import SMOTE\n",
        "\n",
        "# Strip any whitespace from column names\n",
        "df.columns = df.columns.str.strip()\n",
        "\n",
        "# 1. Handle Missing Data\n",
        "if 'Age' in df.columns:\n",
        "    df['Age'].fillna(df['Age'].median(), inplace=True)\n",
        "elif 'age' in df.columns:\n",
        "    df['age'].fillna(df['age'].median(), inplace=True)\n",
        "else:\n",
        "    print(\"No Age column found!\")\n",
        "\n",
        "# Handle categorical missing data\n",
        "categorical_cols = [col for col in df.select_dtypes(include='object').columns if col != 'Target']\n",
        "for col in categorical_cols:\n",
        "    df[col].fillna(df[col].mode()[0], inplace=True)\n",
        "\n",
        "# 2. Handle Outliers in Transaction_Amount\n",
        "if 'Transaction_Amount' in df.columns:\n",
        "    upper = df['Transaction_Amount'].quantile(0.95)\n",
        "    df['Transaction_Amount'] = np.where(df['Transaction_Amount'] > upper, upper, df['Transaction_Amount'])\n",
        "elif 'transaction_amount' in df.columns:\n",
        "    upper = df['transaction_amount'].quantile(0.95)\n",
        "    df['transaction_amount'] = np.where(df['transaction_amount'] > upper, upper, df['transaction_amount'])\n",
        "\n",
        "# 3. Encode Categorical Variables\n",
        "df = pd.get_dummies(df, columns=categorical_cols, drop_first=True)\n",
        "\n",
        "# 4. Feature Scaling\n",
        "num_cols = df.select_dtypes(include=np.number).columns.tolist()\n",
        "num_cols.remove('Target')  # Exclude target\n",
        "scaler = MinMaxScaler()\n",
        "df[num_cols] = scaler.fit_transform(df[num_cols])\n",
        "\n",
        "# 5. Address Class Imbalance\n",
        "X = df.drop('Target', axis=1)\n",
        "y = df['Target']\n",
        "sm = SMOTE(random_state=42)\n",
        "X_res, y_res = sm.fit_resample(X, y)\n",
        "\n",
        "# 6. Train-Test Split\n",
        "X_train, X_test, y_train, y_test = train_test_split(X_res, y_res, test_size=0.2, random_state=42)\n",
        "\n",
        "print(\"Preprocessing complete. Dataset ready for model training.\")\n"
      ],
      "metadata": {
        "colab": {
          "base_uri": "https://localhost:8080/",
          "height": 228
        },
        "id": "jtHIAqp_sKwh",
        "outputId": "668dd0b1-89e6-4e8c-d3d6-b3e9f72c4ae1"
      },
      "execution_count": 8,
      "outputs": [
        {
          "output_type": "stream",
          "name": "stdout",
          "text": [
            "No Age column found!\n"
          ]
        },
        {
          "output_type": "error",
          "ename": "ValueError",
          "evalue": "list.remove(x): x not in list",
          "traceback": [
            "\u001b[0;31m---------------------------------------------------------------------------\u001b[0m",
            "\u001b[0;31mValueError\u001b[0m                                Traceback (most recent call last)",
            "\u001b[0;32m/tmp/ipython-input-895363662.py\u001b[0m in \u001b[0;36m<cell line: 0>\u001b[0;34m()\u001b[0m\n\u001b[1;32m     44\u001b[0m \u001b[0;31m# 4. Feature Scaling\u001b[0m\u001b[0;34m\u001b[0m\u001b[0;34m\u001b[0m\u001b[0m\n\u001b[1;32m     45\u001b[0m \u001b[0mnum_cols\u001b[0m \u001b[0;34m=\u001b[0m \u001b[0mdf\u001b[0m\u001b[0;34m.\u001b[0m\u001b[0mselect_dtypes\u001b[0m\u001b[0;34m(\u001b[0m\u001b[0minclude\u001b[0m\u001b[0;34m=\u001b[0m\u001b[0mnp\u001b[0m\u001b[0;34m.\u001b[0m\u001b[0mnumber\u001b[0m\u001b[0;34m)\u001b[0m\u001b[0;34m.\u001b[0m\u001b[0mcolumns\u001b[0m\u001b[0;34m.\u001b[0m\u001b[0mtolist\u001b[0m\u001b[0;34m(\u001b[0m\u001b[0;34m)\u001b[0m\u001b[0;34m\u001b[0m\u001b[0;34m\u001b[0m\u001b[0m\n\u001b[0;32m---> 46\u001b[0;31m \u001b[0mnum_cols\u001b[0m\u001b[0;34m.\u001b[0m\u001b[0mremove\u001b[0m\u001b[0;34m(\u001b[0m\u001b[0;34m'Target'\u001b[0m\u001b[0;34m)\u001b[0m  \u001b[0;31m# Exclude target\u001b[0m\u001b[0;34m\u001b[0m\u001b[0;34m\u001b[0m\u001b[0m\n\u001b[0m\u001b[1;32m     47\u001b[0m \u001b[0mscaler\u001b[0m \u001b[0;34m=\u001b[0m \u001b[0mMinMaxScaler\u001b[0m\u001b[0;34m(\u001b[0m\u001b[0;34m)\u001b[0m\u001b[0;34m\u001b[0m\u001b[0;34m\u001b[0m\u001b[0m\n\u001b[1;32m     48\u001b[0m \u001b[0mdf\u001b[0m\u001b[0;34m[\u001b[0m\u001b[0mnum_cols\u001b[0m\u001b[0;34m]\u001b[0m \u001b[0;34m=\u001b[0m \u001b[0mscaler\u001b[0m\u001b[0;34m.\u001b[0m\u001b[0mfit_transform\u001b[0m\u001b[0;34m(\u001b[0m\u001b[0mdf\u001b[0m\u001b[0;34m[\u001b[0m\u001b[0mnum_cols\u001b[0m\u001b[0;34m]\u001b[0m\u001b[0;34m)\u001b[0m\u001b[0;34m\u001b[0m\u001b[0;34m\u001b[0m\u001b[0m\n",
            "\u001b[0;31mValueError\u001b[0m: list.remove(x): x not in list"
          ]
        }
      ]
    }
  ]
}